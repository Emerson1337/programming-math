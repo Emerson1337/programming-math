{
  "cells": [
    {
      "cell_type": "code",
      "execution_count": 122,
      "metadata": {
        "colab": {
          "base_uri": "https://localhost:8080/"
        },
        "id": "qMe_fZ1n1VKm",
        "outputId": "9f814c79-9a2b-4d78-bcbe-311f504efc48"
      },
      "outputs": [
        {
          "name": "stdout",
          "output_type": "stream",
          "text": [
            "0 xi: 2.5000 xi+1: 2.6500\n",
            "1 xi: 2.6500 xi+1: 2.6458\n",
            "2 xi: 2.6458 xi+1: 2.6458\n",
            "3 xi: 2.6458 xi+1: 2.6458\n",
            "xc ≈ 2.6458\n"
          ]
        }
      ],
      "source": [
        "left = 2\n",
        "right = 3\n",
        "xi = (left+right)/2\n",
        "iterations = 0\n",
        "\n",
        "while(iterations < 20):\n",
        "  result = xi - ((xi**2 - 7)/(2*xi))\n",
        "  print(str(iterations), \"xi: \" + str(format(xi, \".4f\")), \"xi+1: \" + str(format(result, \".4f\")))\n",
        "  if(str(format(xi, \".4f\")) == str(format(result, \".4f\"))):\n",
        "    result = xi - ((xi**2 - 7)/(2*xi))\n",
        "    print(str(iterations + 1), \"xi: \" + str(format(xi, \".4f\")), \"xi+1: \" + str(format(result, \".4f\")))\n",
        "    break\n",
        "\n",
        "  xi = result\n",
        "  iterations += 1\n",
        "\n",
        "print(\"xc ≈ \" + str(format(xi, \".4f\")))"
      ]
    },
    {
      "cell_type": "code",
      "execution_count": 152,
      "metadata": {
        "colab": {
          "base_uri": "https://localhost:8080/"
        },
        "id": "e5lXIbna8qI3",
        "outputId": "8bef9532-0136-44ae-8236-61de7779d3da"
      },
      "outputs": [
        {
          "name": "stdout",
          "output_type": "stream",
          "text": [
            "0 xi: 1.9750 xi+1: 1.9813\n",
            "1 xi: 1.9813 xi+1: 1.9859\n",
            "2 xi: 1.9859 xi+1: 1.9895\n",
            "3 xi: 1.9895 xi+1: 1.9921\n",
            "4 xi: 1.9921 xi+1: 1.9941\n",
            "5 xi: 1.9941 xi+1: 1.9956\n",
            "6 xi: 1.9956 xi+1: 1.9967\n",
            "7 xi: 1.9967 xi+1: 1.9975\n",
            "8 xi: 1.9975 xi+1: 1.9981\n",
            "9 xi: 1.9981 xi+1: 1.9986\n",
            "10 xi: 1.9986 xi+1: 1.9989\n",
            "11 xi: 1.9989 xi+1: 1.9992\n",
            "12 xi: 1.9992 xi+1: 1.9994\n",
            "13 xi: 1.9994 xi+1: 1.9996\n",
            "14 xi: 1.9996 xi+1: 1.9997\n",
            "15 xi: 1.9997 xi+1: 1.9997\n",
            "16 xi: 1.9997 xi+1: 1.9998\n",
            "17 xi: 1.9998 xi+1: 1.9999\n",
            "18 xi: 1.9999 xi+1: 1.9999\n",
            "19 xi: 1.9999 xi+1: 1.9999\n",
            "20 xi: 1.9999 xi+1: 1.9999\n",
            "21 xi: 1.9999 xi+1: 2.0000\n",
            "22 xi: 2.0000 xi+1: 2.0000\n",
            "23 xi: 2.0000 xi+1: 2.0000\n",
            "24 xi: 2.0000 xi+1: 2.0000\n",
            "xi ≈ 2.0000\n"
          ]
        }
      ],
      "source": [
        "left = 1.75\n",
        "right = 2.2\n",
        "xi = (left+right)/2\n",
        "iterations = 0\n",
        "\n",
        "while(True):\n",
        "  result = xi - ((xi-2)**4/(4*(xi-2)**3))\n",
        "  print(str(iterations), \"xi: \" + str(format(xi, \".4f\")), \"xi+1: \" + str(format(result, \".4f\")))\n",
        "  if(str(format(xi, \".5f\")) == str(format(result, \".5f\"))):\n",
        "    result = xi - ((xi-2)**4/(4*(xi-2)**3))\n",
        "    print(str(iterations + 1), \"xi: \" + str(format(xi, \".4f\")), \"xi+1: \" + str(format(result, \".4f\")))\n",
        "    break\n",
        "\n",
        "  xi = result\n",
        "  iterations += 1\n",
        "\n",
        "print(\"xi ≈ \" + str(format(xi, \".4f\")))"
      ]
    },
    {
      "cell_type": "code",
      "execution_count": 124,
      "metadata": {
        "colab": {
          "base_uri": "https://localhost:8080/"
        },
        "id": "_flhRbP4_ipr",
        "outputId": "a99f1dbe-1975-48cd-8e72-3309efd9d8e4"
      },
      "outputs": [
        {
          "name": "stdout",
          "output_type": "stream",
          "text": [
            "0 xi: -0.5000 xi+1: -0.7219\n",
            "1 xi: -0.7219 xi+1: -0.7036\n",
            "2 xi: -0.7036 xi+1: -0.7035\n",
            "3 xi: -0.7035 xi+1: -0.7035\n",
            "4 xi: -0.7035 xi+1: -0.7035\n",
            "xi ≈ -0.7035\n"
          ]
        }
      ],
      "source": [
        "import math\n",
        "\n",
        "left = -1\n",
        "right = 0\n",
        "xi = (left+right)/2\n",
        "iterations = 0\n",
        "\n",
        "while(True):\n",
        "  result = xi - ((math.e**xi - xi**2)/(math.e**xi - 2*xi))\n",
        "  print(str(iterations), \"xi: \" + str(format(xi, \".4f\")), \"xi+1: \" + str(format(result, \".4f\")))\n",
        "  if(str(format(xi, \".4f\")) == str(format(result, \".4f\"))):\n",
        "    result = xi - ((math.e**xi - xi**2)/(math.e**xi - 2*xi))\n",
        "    print(str(iterations + 1), \"xi: \" + str(format(xi, \".4f\")), \"xi+1: \" + str(format(result, \".4f\")))\n",
        "    break\n",
        "\n",
        "  xi = result\n",
        "  iterations += 1\n",
        "\n",
        "print(\"xi ≈ \" + str(format(xi, \".4f\")))"
      ]
    },
    {
      "cell_type": "code",
      "execution_count": 125,
      "metadata": {
        "colab": {
          "base_uri": "https://localhost:8080/"
        },
        "id": "sRhre4N9AjWG",
        "outputId": "ad2c0ab4-614e-41a1-9957-942521b2b053"
      },
      "outputs": [
        {
          "name": "stdout",
          "output_type": "stream",
          "text": [
            "0 xi: 0.0001 xi+1: 0.0000\n",
            "1 xi: 0.0000 xi+1: 0.0000\n",
            "2 xi: 0.0000 xi+1: 0.0000\n",
            "xi ≈ 0.0000\n"
          ]
        }
      ],
      "source": [
        "import math\n",
        "\n",
        "left = -3.2\n",
        "right = 3.2\n",
        "xi = (left+right)/2 + 0.0001\n",
        "iterations = 0\n",
        "\n",
        "while(True):\n",
        "  result = xi - ((xi*math.sin(xi))/(math.sin(xi) + xi*math.cos(xi)))\n",
        "  print(str(iterations), \"xi: \" + str(format(xi, \".4f\")), \"xi+1: \" + str(format(result, \".4f\")))\n",
        "  if(str(format(xi, \".4f\")) == str(format(result, \".4f\"))):\n",
        "    result = xi - ((xi*math.sin(xi))/(math.sin(xi) + xi*math.cos(xi)))\n",
        "    print(str(iterations + 1), \"xi: \" + str(format(xi, \".4f\")), \"xi+1: \" + str(format(result, \".4f\")))\n",
        "    break\n",
        "\n",
        "  xi = result\n",
        "  iterations += 1\n",
        "\n",
        "print(\"xi ≈ \" + str(format(xi, \".4f\")))"
      ]
    },
    {
      "cell_type": "code",
      "execution_count": 126,
      "metadata": {
        "colab": {
          "base_uri": "https://localhost:8080/"
        },
        "id": "sIVp1cim_2RS",
        "outputId": "7ee17ad7-f769-45c9-a210-0e4d97cd2b7b"
      },
      "outputs": [
        {
          "name": "stdout",
          "output_type": "stream",
          "text": [
            "0 xi: 2.5000 xi+1: 2.8500\n",
            "1 xi: 2.8500 xi+1: 2.8285\n",
            "2 xi: 2.8285 xi+1: 2.8284\n",
            "3 xi: 2.8284 xi+1: 2.8284\n",
            "4 xi: 2.8284 xi+1: 2.8284\n",
            "xc ≈ 2.8284\n"
          ]
        }
      ],
      "source": [
        "left = 2\n",
        "right = 3\n",
        "xi = (left+right)/2\n",
        "iterations = 0\n",
        "\n",
        "while(True):\n",
        "  result = xi - ((xi**2 - 8)/(2*xi))\n",
        "  print(str(iterations), \"xi: \" + str(format(xi, \".4f\")), \"xi+1: \" + str(format(result, \".4f\")))\n",
        "  if(str(format(xi, \".4f\")) == str(format(result, \".4f\"))):\n",
        "    result = xi - ((xi**2 - 8)/(2*xi))\n",
        "    print(str(iterations + 1), \"xi: \" + str(format(xi, \".4f\")), \"xi+1: \" + str(format(result, \".4f\")))\n",
        "    break\n",
        "\n",
        "  xi = result\n",
        "  iterations += 1\n",
        "\n",
        "print(\"xc ≈ \" + str(format(xi, \".4f\")))"
      ]
    },
    {
      "cell_type": "code",
      "execution_count": 127,
      "metadata": {},
      "outputs": [
        {
          "name": "stdout",
          "output_type": "stream",
          "text": [
            "0 xi: 9.5000 xi+1: 9.5395\n",
            "1 xi: 9.5395 xi+1: 9.5394\n",
            "2 xi: 9.5394 xi+1: 9.5394\n",
            "3 xi: 9.5394 xi+1: 9.5394\n",
            "xc ≈ 9.5394\n"
          ]
        }
      ],
      "source": [
        "left = 9\n",
        "right = 10\n",
        "xi = (left+right)/2\n",
        "iterations = 0\n",
        "\n",
        "while(True):\n",
        "  result = xi - ((xi**2 - 91)/(2*xi))\n",
        "  print(str(iterations), \"xi: \" + str(format(xi, \".4f\")), \"xi+1: \" + str(format(result, \".4f\")))\n",
        "  if(str(format(xi, \".4f\")) == str(format(result, \".4f\"))):\n",
        "    result = xi - ((xi**2 - 91)/(2*xi))\n",
        "    print(str(iterations + 1), \"xi: \" + str(format(xi, \".4f\")), \"xi+1: \" + str(format(result, \".4f\")))\n",
        "    break\n",
        "\n",
        "  xi = result\n",
        "  iterations += 1\n",
        "\n",
        "print(\"xc ≈ \" + str(format(xi, \".4f\")))"
      ]
    },
    {
      "cell_type": "code",
      "execution_count": 153,
      "metadata": {},
      "outputs": [
        {
          "name": "stdout",
          "output_type": "stream",
          "text": [
            "0 xi: 1.5000 xi+1: 2.0370\n",
            "1 xi: 2.0370 xi+1: 1.9203\n",
            "2 xi: 1.9203 xi+1: 1.9130\n",
            "3 xi: 1.9130 xi+1: 1.9129\n",
            "4 xi: 1.9129 xi+1: 1.9129\n",
            "5 xi: 1.9129 xi+1: 1.9129\n",
            "xc ≈ 1.9129\n"
          ]
        }
      ],
      "source": [
        "left = 1\n",
        "right = 2\n",
        "xi = (left+right)/2\n",
        "iterations = 0\n",
        "\n",
        "while(True):\n",
        "  result = xi - ((xi**3 - 7)/(3*xi**2))\n",
        "  print(str(iterations), \"xi: \" + str(format(xi, \".4f\")), \"xi+1: \" + str(format(result, \".4f\")))\n",
        "  if(str(format(xi, \".4f\")) == str(format(result, \".4f\"))):\n",
        "    result = xi - ((xi**3 - 7)/(3*xi**2))\n",
        "    print(str(iterations + 1), \"xi: \" + str(format(xi, \".4f\")), \"xi+1: \" + str(format(result, \".4f\")))\n",
        "    break\n",
        "\n",
        "  xi = result\n",
        "  iterations += 1\n",
        "\n",
        "print(\"xc ≈ \" + str(format(xi, \".4f\")))"
      ]
    },
    {
      "cell_type": "code",
      "execution_count": 154,
      "metadata": {},
      "outputs": [
        {
          "name": "stdout",
          "output_type": "stream",
          "text": [
            "0 xi: 5.5000 xi+1: 5.8705\n",
            "1 xi: 5.8705 xi+1: 5.8481\n",
            "2 xi: 5.8481 xi+1: 5.8480\n",
            "3 xi: 5.8480 xi+1: 5.8480\n",
            "4 xi: 5.8480 xi+1: 5.8480\n",
            "xc ≈ 5.8480\n"
          ]
        }
      ],
      "source": [
        "left = 5\n",
        "right = 6\n",
        "xi = (left+right)/2\n",
        "iterations = 0\n",
        "\n",
        "while(True):\n",
        "  result = xi - ((xi**3 - 200)/(3*xi**2))\n",
        "  print(str(iterations), \"xi: \" + str(format(xi, \".4f\")), \"xi+1: \" + str(format(result, \".4f\")))\n",
        "  if(str(format(xi, \".4f\")) == str(format(result, \".4f\"))):\n",
        "    result = xi - ((xi**3 - 200)/(3*xi**2))\n",
        "    print(str(iterations + 1), \"xi: \" + str(format(xi, \".4f\")), \"xi+1: \" + str(format(result, \".4f\")))\n",
        "    break\n",
        "\n",
        "  xi = result\n",
        "  iterations += 1\n",
        "\n",
        "print(\"xc ≈ \" + str(format(xi, \".4f\")))"
      ]
    }
  ],
  "metadata": {
    "colab": {
      "collapsed_sections": [],
      "name": "dicotomia.ipynb",
      "provenance": []
    },
    "kernelspec": {
      "display_name": "Python 3",
      "name": "python3"
    },
    "language_info": {
      "codemirror_mode": {
        "name": "ipython",
        "version": 3
      },
      "file_extension": ".py",
      "mimetype": "text/x-python",
      "name": "python",
      "nbconvert_exporter": "python",
      "pygments_lexer": "ipython3",
      "version": "3.10.4"
    }
  },
  "nbformat": 4,
  "nbformat_minor": 0
}
