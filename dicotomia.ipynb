{
  "cells": [
    {
      "cell_type": "code",
      "execution_count": 6,
      "metadata": {
        "colab": {
          "base_uri": "https://localhost:8080/"
        },
        "id": "qMe_fZ1n1VKm",
        "outputId": "9f814c79-9a2b-4d78-bcbe-311f504efc48"
      },
      "outputs": [
        {
          "name": "stdout",
          "output_type": "stream",
          "text": [
            "xa: 1 xb: 2 xc: 1.5 f(xc): 0.1250\n",
            "xa: 1 xb: 1.4999999999 xc: 1.24999999995 f(xc): -0.6094\n",
            "xa: 1.25000000005 xb: 1.4999999999 xc: 1.374999999975 f(xc): -0.2910\n",
            "xa: 1.375000000075 xb: 1.4999999999 xc: 1.4374999999875 f(xc): -0.0959\n",
            "xa: 1.4375000000875 xb: 1.4999999999 xc: 1.4687499999937499 f(xc): 0.0112\n",
            "xa: 1.4375000000875 xb: 1.4687499998937499 xc: 1.4531249999906248 f(xc): -0.0432\n",
            "xa: 1.4531250000906248 xb: 1.4687499998937499 xc: 1.4609374999921874 f(xc): -0.0162\n",
            "xa: 1.4609375000921874 xb: 1.4687499998937499 xc: 1.4648437499929687 f(xc): -0.0026\n",
            "xa: 1.4648437500929687 xb: 1.4687499998937499 xc: 1.4667968749933593 f(xc): 0.0043\n",
            "xa: 1.4648437500929687 xb: 1.4667968748933593 xc: 1.4658203124931641 f(xc): 0.0009\n",
            "xa: 1.4648437500929687 xb: 1.4658203123931641 xc: 1.4653320312430664 f(xc): -0.0008\n",
            "xa: 1.4653320313430664 xb: 1.4658203123931641 xc: 1.4655761718681153 f(xc): 0.0000\n",
            "xc ≈ 1.4655761718681153\n"
          ]
        }
      ],
      "source": [
        "left = 1\n",
        "right = 2\n",
        "\n",
        "while(right >= left):\n",
        "  middle = (left+right)/2\n",
        "  result = middle**3 - middle**2 - 1\n",
        "  print(\"xa: \" + str(left), \"xb: \" + str(right), \"xc: \" + str(middle), \"f(xc): \" + str(format(result, \".4f\")))\n",
        "  if format(result, \".4f\") == \"0.0000\" or format(result, \".4f\") == \"-0.0000\":\n",
        "    print(\"xc ≈ \" + str(middle))\n",
        "    break\n",
        "  if(result > 0):\n",
        "    right = middle - 0.0000000001\n",
        "  else:\n",
        "    left = middle + 0.0000000001"
      ]
    },
    {
      "cell_type": "code",
      "execution_count": 7,
      "metadata": {
        "colab": {
          "base_uri": "https://localhost:8080/"
        },
        "id": "e5lXIbna8qI3",
        "outputId": "8bef9532-0136-44ae-8236-61de7779d3da"
      },
      "outputs": [
        {
          "name": "stdout",
          "output_type": "stream",
          "text": [
            "xa: 0 xb: 2 xc: 1.0 f(xc): 0.0000\n",
            "xc ≈ 1.0\n"
          ]
        }
      ],
      "source": [
        "left = 0\n",
        "right = 2\n",
        "\n",
        "while(right >= left):\n",
        "  middle = (left+right)/2\n",
        "  result = 2.718281828459045235360287**-middle * ((middle - 1)/2)\n",
        "  print(\"xa: \" + str(left), \"xb: \" + str(right), \"xc: \" + str(middle), \"f(xc): \" + str(format(result, \".4f\")))\n",
        "  if format(result, \".4f\") == \"0.0000\" or format(result, \".4f\") == \"-0.0000\":\n",
        "    print(\"xc ≈ \" + str(middle))\n",
        "    break\n",
        "  if(result > 0):\n",
        "    right = middle - 0.0000000001\n",
        "  else:\n",
        "    left = middle + 0.0000000001"
      ]
    },
    {
      "cell_type": "code",
      "execution_count": 8,
      "metadata": {
        "colab": {
          "base_uri": "https://localhost:8080/"
        },
        "id": "_flhRbP4_ipr",
        "outputId": "a99f1dbe-1975-48cd-8e72-3309efd9d8e4"
      },
      "outputs": [
        {
          "name": "stdout",
          "output_type": "stream",
          "text": [
            "xa: -3 xb: -2 xc: -2.5 f(xc): -0.7150\n",
            "xa: -3 xb: -2.5000000001 xc: -2.75000000005 f(xc): 0.1100\n",
            "xa: -2.74999999995 xb: -2.5000000001 xc: -2.625000000025 f(xc): -0.3181\n",
            "xa: -2.74999999995 xb: -2.625000000125 xc: -2.6875000000375 f(xc): -0.1080\n",
            "xa: -2.74999999995 xb: -2.6875000001375 xc: -2.71875000004375 f(xc): 0.0000\n",
            "xc ≈ -2.71875000004375\n"
          ]
        }
      ],
      "source": [
        "left = -3\n",
        "right = -2\n",
        "\n",
        "while(right >= left):\n",
        "  middle = (left+right)/2\n",
        "  result = middle**2 + 1.95*middle - 2.09\n",
        "  print(\"xa: \" + str(left), \"xb: \" + str(right), \"xc: \" + str(middle), \"f(xc): \" + str(format(result, \".4f\")))\n",
        "  if format(result, \".4f\") == \"0.0000\" or format(result, \".4f\") == \"-0.0000\":\n",
        "    print(\"xc ≈ \" + str(middle))\n",
        "    break\n",
        "  if(result < 0):\n",
        "    right = middle - 0.0000000001\n",
        "  else:\n",
        "    left = middle + 0.0000000001"
      ]
    },
    {
      "cell_type": "code",
      "execution_count": 9,
      "metadata": {
        "colab": {
          "base_uri": "https://localhost:8080/"
        },
        "id": "sRhre4N9AjWG",
        "outputId": "ad2c0ab4-614e-41a1-9957-942521b2b053"
      },
      "outputs": [
        {
          "name": "stdout",
          "output_type": "stream",
          "text": [
            "xa: 0 xb: 1 xc: 0.5 f(xc): -0.8650\n",
            "xa: 0.5000000001 xb: 1 xc: 0.75000000005 f(xc): -0.0650\n",
            "xa: 0.75000000015 xb: 1 xc: 0.875000000075 f(xc): 0.3819\n",
            "xa: 0.75000000015 xb: 0.874999999975 xc: 0.8125000000625 f(xc): 0.1545\n",
            "xa: 0.75000000015 xb: 0.8124999999625 xc: 0.78125000005625 f(xc): 0.0438\n",
            "xa: 0.75000000015 xb: 0.78124999995625 xc: 0.7656250000531251 f(xc): -0.0108\n",
            "xa: 0.7656250001531251 xb: 0.78124999995625 xc: 0.7734375000546876 f(xc): 0.0164\n",
            "xa: 0.7656250001531251 xb: 0.7734374999546876 xc: 0.7695312500539063 f(xc): 0.0028\n",
            "xa: 0.7656250001531251 xb: 0.7695312499539063 xc: 0.7675781250535156 f(xc): -0.0040\n",
            "xa: 0.7675781251535156 xb: 0.7695312499539063 xc: 0.768554687553711 f(xc): -0.0006\n",
            "xa: 0.768554687653711 xb: 0.7695312499539063 xc: 0.7690429688038087 f(xc): 0.0011\n",
            "xa: 0.768554687653711 xb: 0.7690429687038087 xc: 0.7687988281787599 f(xc): 0.0002\n",
            "xa: 0.768554687653711 xb: 0.7687988280787599 xc: 0.7686767578662355 f(xc): -0.0002\n",
            "xa: 0.7686767579662355 xb: 0.7687988280787599 xc: 0.7687377930224977 f(xc): -0.0000\n",
            "xc ≈ 0.7687377930224977\n"
          ]
        }
      ],
      "source": [
        "left = 0\n",
        "right = 1\n",
        "\n",
        "while(right >= left):\n",
        "  middle = (left+right)/2\n",
        "  result = middle**2 + 1.95*middle - 2.09\n",
        "  print(\"xa: \" + str(left), \"xb: \" + str(right), \"xc: \" + str(middle), \"f(xc): \" + str(format(result, \".4f\")))\n",
        "  if format(result, \".4f\") == \"0.0000\" or format(result, \".4f\") == \"-0.0000\":\n",
        "    print(\"xc ≈ \" + str(middle))\n",
        "    break\n",
        "  if(result > 0):\n",
        "    right = middle - 0.0000000001\n",
        "  else:\n",
        "    left = middle + 0.0000000001"
      ]
    },
    {
      "cell_type": "code",
      "execution_count": 10,
      "metadata": {
        "colab": {
          "base_uri": "https://localhost:8080/"
        },
        "id": "sIVp1cim_2RS",
        "outputId": "7ee17ad7-f769-45c9-a210-0e4d97cd2b7b"
      },
      "outputs": [
        {
          "name": "stdout",
          "output_type": "stream",
          "text": [
            "xa: 3 xb: 4 xc: 3.5 f(xc): 0.4875\n",
            "xa: 3 xb: 3.4999999999 xc: 3.24999999995 f(xc): 0.2283\n",
            "xa: 3 xb: 3.24999999985 xc: 3.124999999925 f(xc): 0.0966\n",
            "xa: 3 xb: 3.124999999825 xc: 3.0624999999125 f(xc): 0.0300\n",
            "xa: 3 xb: 3.0624999998125 xc: 3.03124999990625 f(xc): -0.0034\n",
            "xa: 3.03125000000625 xb: 3.0624999998125 xc: 3.046874999909375 f(xc): 0.0133\n",
            "xa: 3.03125000000625 xb: 3.046874999809375 xc: 3.0390624999078124 f(xc): 0.0049\n",
            "xa: 3.03125000000625 xb: 3.0390624998078124 xc: 3.0351562499070313 f(xc): 0.0008\n",
            "xa: 3.03125000000625 xb: 3.0351562498070312 xc: 3.033203124906641 f(xc): -0.0013\n",
            "xa: 3.033203125006641 xb: 3.0351562498070312 xc: 3.0341796874068363 f(xc): -0.0003\n",
            "xa: 3.0341796875068363 xb: 3.0351562498070312 xc: 3.034667968656934 f(xc): 0.0002\n",
            "xa: 3.0341796875068363 xb: 3.034667968556934 xc: 3.034423828031885 f(xc): -0.0000\n",
            "xc ≈ 3.034423828031885\n"
          ]
        }
      ],
      "source": [
        "left = 3\n",
        "right = 4\n",
        "\n",
        "while(right >= left):\n",
        "  middle = (left+right)/2\n",
        "  result = middle - 3 - middle**-middle\n",
        "  print(\"xa: \" + str(left), \"xb: \" + str(right), \"xc: \" + str(middle), \"f(xc): \" + str(format(result, \".4f\")))\n",
        "  if format(result, \".4f\") == \"0.0000\" or format(result, \".4f\") == \"-0.0000\":\n",
        "    print(\"xc ≈ \" + str(middle))\n",
        "    break\n",
        "  if(result > 0):\n",
        "    right = middle - 0.0000000001\n",
        "  else:\n",
        "    left = middle + 0.0000000001"
      ]
    }
  ],
  "metadata": {
    "colab": {
      "collapsed_sections": [],
      "name": "dicotomia.ipynb",
      "provenance": []
    },
    "kernelspec": {
      "display_name": "Python 3",
      "name": "python3"
    },
    "language_info": {
      "codemirror_mode": {
        "name": "ipython",
        "version": 3
      },
      "file_extension": ".py",
      "mimetype": "text/x-python",
      "name": "python",
      "nbconvert_exporter": "python",
      "pygments_lexer": "ipython3",
      "version": "3.10.4"
    }
  },
  "nbformat": 4,
  "nbformat_minor": 0
}
